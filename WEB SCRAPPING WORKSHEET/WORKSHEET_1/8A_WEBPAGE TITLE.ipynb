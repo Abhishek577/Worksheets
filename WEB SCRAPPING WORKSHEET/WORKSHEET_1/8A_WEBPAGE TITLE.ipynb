{
 "cells": [
  {
   "cell_type": "code",
   "execution_count": 1,
   "metadata": {},
   "outputs": [],
   "source": [
    "def title(url):\n",
    "    from selenium import webdriver\n",
    "    import time\n",
    "    driver=webdriver.Chrome(executable_path=\"C:\\\\Users\\\\mishr\\\\driver\\\\cd.exe\")\n",
    "    driver.get(url)\n",
    "    time.sleep(5)\n",
    "    title= driver.title\n",
    "    if title== None:\n",
    "        print(\"NO TITLE FOUND IN \", driver.current_url)\n",
    "    else:\n",
    "        print(\"BROWSER USED:\\t\",driver.name.upper(),\n",
    "              \"\\nURL OPENED:\\t\",driver.current_url,\n",
    "              \"\\nTITLE OF THE PAGE:\\t\",title)\n",
    "        "
   ]
  },
  {
   "cell_type": "code",
   "execution_count": 2,
   "metadata": {},
   "outputs": [
    {
     "name": "stdout",
     "output_type": "stream",
     "text": [
      "BROWSER USED:\t CHROME \n",
      "URL OPENED:\t https://www.youtube.com/ \n",
      "TITLE OF THE PAGE:\t YouTube\n"
     ]
    }
   ],
   "source": [
    "url='https://www.youtube.com/'\n",
    "title(url=url)"
   ]
  }
 ],
 "metadata": {
  "kernelspec": {
   "display_name": "Python 3",
   "language": "python",
   "name": "python3"
  },
  "language_info": {
   "codemirror_mode": {
    "name": "ipython",
    "version": 3
   },
   "file_extension": ".py",
   "mimetype": "text/x-python",
   "name": "python",
   "nbconvert_exporter": "python",
   "pygments_lexer": "ipython3",
   "version": "3.8.3"
  }
 },
 "nbformat": 4,
 "nbformat_minor": 4
}
