{
 "cells": [
  {
   "cell_type": "markdown",
   "metadata": {},
   "source": [
    "# **Q14:Write a python program to scrap 10 images of Rayban Sunglasses from flipkart website and save them in a directory.**"
   ]
  },
  {
   "cell_type": "code",
   "execution_count": 1,
   "metadata": {},
   "outputs": [],
   "source": [
    "from selenium import webdriver\n",
    "from selenium.webdriver.common.by import By\n",
    "from selenium.webdriver.support.ui import WebDriverWait as wdt\n",
    "from selenium.common.exceptions import StaleElementReferenceException as ser\n",
    "from selenium.webdriver.support import expected_conditions as ec\n",
    "import time\n",
    "import os,requests,pandas as pd\n",
    "import random"
   ]
  },
  {
   "cell_type": "code",
   "execution_count": 2,
   "metadata": {},
   "outputs": [],
   "source": [
    "#creating directory\n",
    "\n",
    "def directory(directory_name):\n",
    "    CurrentPath=os.getcwd()\n",
    "    path=os.path.join(CurrentPath,directory_name)\n",
    "    if not os.path.exists(path):\n",
    "        os.makedirs(path)\n",
    "    print('Directory {0} has been Created\\n\\n'.format(directory_name))"
   ]
  },
  {
   "cell_type": "code",
   "execution_count": 3,
   "metadata": {},
   "outputs": [],
   "source": [
    "#scrapping images and downloading and other data\n",
    "\n",
    "def scrapper(driver,directory,number):\n",
    "    \n",
    "#IMAGE SAVING\n",
    "\n",
    "    im= str(input(\"Enter the X_path locator of image:::\\t\"))\n",
    "    img=driver.find_elements_by_xpath(im)\n",
    "    \n",
    "    links=[]\n",
    "    \n",
    "    for image in img:\n",
    "        source=image.get_attribute('src')\n",
    "        links.append(source)\n",
    "    print('\\nTotal links found',len(links))\n",
    "    \n",
    "    download=random.sample(links,number) #selecting randomly required numbers of list to download\n",
    "    print(\"No of images to be downloaded=\\t\",len(download))\n",
    "    \n",
    "    import shutil\n",
    "    import requests\n",
    "    for index,link in enumerate(download):\n",
    "       \n",
    "        print('\\nGetting ', index+1,'of', len(download),'Images from the Page to the Local Machine')\n",
    "\n",
    "        response=requests.get(link)\n",
    "    \n",
    "        with open('{0}/ FLIPKART_{1}_{2}.jpeg'.format(directory,directory,index+1), 'wb+') as doc:\n",
    "            doc.write(response.content)\n",
    "            \n"
   ]
  },
  {
   "cell_type": "code",
   "execution_count": 4,
   "metadata": {},
   "outputs": [],
   "source": [
    "chrome_options = webdriver.ChromeOptions()\n",
    "prefs = {\"profile.default_content_setting_values.notifications\" : 2}\n",
    "chrome_options.add_experimental_option(\"prefs\",prefs)\n",
    "#this news paper is generating warning so to disable it........\n",
    "\n",
    "driver=webdriver.Chrome(executable_path=r\"C:\\Users\\mishr\\driver\\cd.exe\")"
   ]
  },
  {
   "cell_type": "code",
   "execution_count": 5,
   "metadata": {
    "scrolled": false
   },
   "outputs": [
    {
     "name": "stdout",
     "output_type": "stream",
     "text": [
      "Directory sunglass has been Created\n",
      "\n",
      "\n",
      "Enter the X_path locator of image:::\t//img[@class='_3togXc']\n",
      "\n",
      "Total links found 40\n",
      "No of images to be downloaded=\t 10\n",
      "\n",
      "Getting  1 of 10 Images from the Page to the Local Machine\n",
      "\n",
      "Getting  2 of 10 Images from the Page to the Local Machine\n",
      "\n",
      "Getting  3 of 10 Images from the Page to the Local Machine\n",
      "\n",
      "Getting  4 of 10 Images from the Page to the Local Machine\n",
      "\n",
      "Getting  5 of 10 Images from the Page to the Local Machine\n",
      "\n",
      "Getting  6 of 10 Images from the Page to the Local Machine\n",
      "\n",
      "Getting  7 of 10 Images from the Page to the Local Machine\n",
      "\n",
      "Getting  8 of 10 Images from the Page to the Local Machine\n",
      "\n",
      "Getting  9 of 10 Images from the Page to the Local Machine\n",
      "\n",
      "Getting  10 of 10 Images from the Page to the Local Machine\n"
     ]
    }
   ],
   "source": [
    "URL= \"https://www.flipkart.com/\"\n",
    "\n",
    "driver.get(URL)\n",
    "time.sleep(10)\n",
    "wait=wdt(driver,14)\n",
    "\n",
    "element=wait.until(ec.element_to_be_clickable((By.XPATH,\"//input[@class='LM6RPg']\")))\n",
    "element.click()\n",
    "\n",
    "element.send_keys('Rayban Sunglasses')\n",
    "driver.find_element_by_class_name('vh79eN').click()\n",
    "time.sleep(7)\n",
    "\n",
    "#creating directory\n",
    "directory(directory_name= \"sunglass\")\n",
    "\n",
    "#\"//img[@class='_3togXc']\"\n",
    "\n",
    "try:\n",
    "    scrapper(driver=driver,directory='sunglass',number=10)                   \n",
    "    time.sleep(6)\n",
    "    driver.find_element_by_xpath(\"//a[@class='_3fVaIS']\").click() #next page\n",
    "    \n",
    "except ser:\n",
    "    print(\"WE ARE FACING UNANTED EXCEPTION.RESTARTING THE SERVICE..\\n\\n\")\n",
    "    error_page=driver.find_element_by_xpath(\"//a[@class=_3fVaIS]\").text\n",
    "    print('Exceptions Faced at',error_page)\n",
    "    value=driver.find_element_by_xpath(\"//a[@class='_3fVaIS']\")\n",
    "    link=value.get_attribute('href')\n",
    "    driver.get(link)\n",
    "    scrapper(driver=driver,directory=sunglass,number=10)\n",
    "    time.sleep(6)\n",
    "    print(\" Moving to Next Page\")\n",
    "    driver.find_element_by_xpath(\"//a[@class='_3fVaIS']\").click()\n",
    "\n"
   ]
  },
  {
   "cell_type": "code",
   "execution_count": 6,
   "metadata": {},
   "outputs": [],
   "source": [
    "driver.quit()"
   ]
  },
  {
   "cell_type": "markdown",
   "metadata": {},
   "source": [
    "# **Q15:rite a program to scrap 20 mouses’ data which includes model name, price from www.amazon.in whose price is less than 500 and make a data frame with 2 columns “model_name”,” price” with the scraped data.**"
   ]
  },
  {
   "cell_type": "code",
   "execution_count": 7,
   "metadata": {},
   "outputs": [],
   "source": [
    "from selenium import webdriver\n",
    "from selenium.webdriver.common.by import By\n",
    "from selenium.webdriver.support.ui import WebDriverWait as wdt\n",
    "from selenium.common.exceptions import StaleElementReferenceException as ser\n",
    "from selenium.webdriver.support import expected_conditions as ec\n",
    "import time\n",
    "\n",
    "import os,requests,pandas as pd"
   ]
  },
  {
   "cell_type": "code",
   "execution_count": 8,
   "metadata": {},
   "outputs": [],
   "source": [
    "#scrapping details\n",
    "mouse={}\n",
    "\n",
    "mouse['model_name']=[] #for name of brand of the mouse\n",
    "mouse['price']=[] #for price of the mouse\n",
    "brands=[]\n",
    "prices=[]\n",
    "def scrapper(driver):\n",
    "       \n",
    "    driver.execute_script(\"window.scrollTo(0,document.body.scrollHeight)\")\n",
    "    time.sleep(12)\n",
    "\n",
    "    \n",
    "    temp1=driver.find_elements_by_xpath(\"//a[@class='a-link-normal a-text-normal']/span\")\n",
    "    temp2=driver.find_elements_by_class_name('a-price-whole')\n",
    "   \n",
    "    brands=temp1[1:21]\n",
    "    prices=temp2[1:21]\n",
    "    \n",
    "    \n",
    "    for i in brands:\n",
    "        mouse['model_name'].append(i.text)\n",
    "    \n",
    "    \n",
    "    for j in prices:\n",
    "        mouse['price'].append(j.text) \n",
    "   "
   ]
  },
  {
   "cell_type": "code",
   "execution_count": 9,
   "metadata": {},
   "outputs": [],
   "source": [
    "chrome_options = webdriver.ChromeOptions()\n",
    "prefs = {\"profile.default_content_setting_values.notifications\" : 2}\n",
    "chrome_options.add_experimental_option(\"prefs\",prefs)\n",
    "\n",
    "\n",
    "driver=webdriver.Chrome(executable_path=r\"C:\\Users\\mishr\\driver\\cd.exe\")"
   ]
  },
  {
   "cell_type": "code",
   "execution_count": 12,
   "metadata": {},
   "outputs": [],
   "source": [
    "\n",
    "driver.get('https://www.amazon.in/')\n",
    "time.sleep(10)\n",
    "wait=wdt(driver,14)\n",
    "element=wait.until(ec.element_to_be_clickable((By.XPATH,\"//*[@id='twotabsearchtextbox']\"))) #input box\n",
    "element.click()\n",
    "element.send_keys('mouse')\n",
    "driver.find_element_by_class_name('nav-input').click()\n",
    "time.sleep(7)\n",
    "\n",
    "\n",
    "#setting price at 500\n",
    "wait.until(ec.presence_of_all_elements_located((By.ID,\"priceRefinements\"))) #price box\n",
    "price_box=driver.find_element_by_id(\"high-price\") #locating the max price box\n",
    "price_box.send_keys('500')  #entering the value of max price\n",
    "driver.find_element_by_id('a-autoid-1').click()  #selecting go button and clicking on it\n",
    "time.sleep(6)\n",
    "\n",
    "\n",
    "try:\n",
    "    scrapper(driver=driver)                   \n",
    "        \n",
    "except ser:\n",
    "    print(\"WE ARE FACING UNANTED EXCEPTION.RESTARTING THE SERVICE..\\n\\n\")\n"
   ]
  },
  {
   "cell_type": "code",
   "execution_count": 13,
   "metadata": {},
   "outputs": [
    {
     "name": "stdout",
     "output_type": "stream",
     "text": [
      "models= ['Portronics POR-015 Toad 11 Wireless Mouse with 2.4GHz Technology (Blue)', 'Portronics Toad 12 Wireless 2.4G Optical Mouse with Ergonomic Design, USB Receiver for Notebook, Laptop, Computer, MacBook, Windows, MacOS, (Blue)', 'Lenovo 300 Wired USB Mouse, GX30M39704', 'HP X1000 Wired Mouse (Black/Grey)', 'Logitech M90 Wired USB Mouse, 1000 DPI Optical Tracking, Ambidextrous PC/Mac/Laptop - Black', 'Xmate Zorro Wired USB Gaming Mouse, 3200 DPI Optical Sensor, RGB Lighting, 6 Mechanical Buttons, Lightweight & Durable Mouse for PC/Laptop/Mac - (Black)', 'Zebronics Zeb-Rise Wired USB Optical Mouse with 3 Buttons (Black)', 'Dell MS116 1000DPI USB Wired Optical Mouse', 'iBall Style 63 Optical Mouse (Black)', 'HP USB X500 Wired Optical Sensor Mouse 3 Buttons Windows 8 Supported', 'Zinq Technologies ZQ233 Wired Mouse with 1000DPI for Laptop and Desktop (Black)', 'KECINOVA ENTERPRISE MS116 1000DPI USB Optical Wired Optical Mouse', 'iBall FreeGo G20 High Speed Wireless Optical Mouse, Black', 'Ant Esports GM200W Gaming Mouse Wired, 6 Programmable Buttons, 3200 DPI Adjustable, with 7 Breathing Lights, Comfortable Grip Ergonomic Optical PC Computer Gaming Mouse, World of Warships Edition – Black', 'Portronics Toad 12 Wireless 2.4G Optical Mouse with Ergonomic Design, USB Receiver for Notebook, Laptop, Computer, MacBook, Windows, MacOS, (Blue)', 'RiaTech Water Resistance Coating Natural Rubber Gaming Mouse Pad with Stitched Embroidery Edges and Non Slippery Rubber Base - (29.5 x 23 x 0.2 cm) Grey', 'Electomania Heart-Shaped Summer Soft Silicon Wrist Rests Cool Hand Pillow Mouse Pad Blue', 'Xmate Rio Wired USB Gaming Mouse, Led Backlit, 6 Button, 7 Color Breathing Lights, High Ergonomic Mouse, Durable ABS Body for Computer PC & Laptop, 1.5M Nylon Braided Cable (Black)', 'RiaTech 2 Pack Mouse Pad, Water Resistance Coating Natural Rubber Gaming Mouse Pad with Stitched Embroidery Edges & Non-Slippery Rubber Base -(250mm x 210mm x 2mm) - Black with Red Border', 'Golden Feather Anti Skid Marvel Avengers Super Heroes Designer Mouse pad for laptops and Computers Gaming Mousepad (Spiderman 2)'] \n",
      "\n",
      "price= ['477', '299', '349', '299', '499', '124', '407', '265', '440', '199', '270', '410', '449', '477', '289', '399', '399', '369', '189', '210']\n"
     ]
    }
   ],
   "source": [
    "print(\"models=\",mouse['model_name'],'\\n\\nprice=',mouse['price'])"
   ]
  },
  {
   "cell_type": "code",
   "execution_count": 14,
   "metadata": {},
   "outputs": [
    {
     "name": "stdout",
     "output_type": "stream",
     "text": [
      "no of brands=  20 \n",
      "price of the brands 20\n"
     ]
    }
   ],
   "source": [
    "print(\"no of brands= \",len(mouse['model_name']),'\\nprice of the brands',len(mouse['price']))"
   ]
  },
  {
   "cell_type": "code",
   "execution_count": 15,
   "metadata": {},
   "outputs": [],
   "source": [
    "driver.quit()"
   ]
  },
  {
   "cell_type": "code",
   "execution_count": 16,
   "metadata": {},
   "outputs": [
    {
     "data": {
      "text/html": [
       "<div>\n",
       "<style scoped>\n",
       "    .dataframe tbody tr th:only-of-type {\n",
       "        vertical-align: middle;\n",
       "    }\n",
       "\n",
       "    .dataframe tbody tr th {\n",
       "        vertical-align: top;\n",
       "    }\n",
       "\n",
       "    .dataframe thead th {\n",
       "        text-align: right;\n",
       "    }\n",
       "</style>\n",
       "<table border=\"1\" class=\"dataframe\">\n",
       "  <thead>\n",
       "    <tr style=\"text-align: right;\">\n",
       "      <th></th>\n",
       "      <th>model_name</th>\n",
       "      <th>price</th>\n",
       "    </tr>\n",
       "  </thead>\n",
       "  <tbody>\n",
       "    <tr>\n",
       "      <th>0</th>\n",
       "      <td>Portronics POR-015 Toad 11 Wireless Mouse with...</td>\n",
       "      <td>477</td>\n",
       "    </tr>\n",
       "    <tr>\n",
       "      <th>1</th>\n",
       "      <td>Portronics Toad 12 Wireless 2.4G Optical Mouse...</td>\n",
       "      <td>299</td>\n",
       "    </tr>\n",
       "    <tr>\n",
       "      <th>2</th>\n",
       "      <td>Lenovo 300 Wired USB Mouse, GX30M39704</td>\n",
       "      <td>349</td>\n",
       "    </tr>\n",
       "    <tr>\n",
       "      <th>3</th>\n",
       "      <td>HP X1000 Wired Mouse (Black/Grey)</td>\n",
       "      <td>299</td>\n",
       "    </tr>\n",
       "    <tr>\n",
       "      <th>4</th>\n",
       "      <td>Logitech M90 Wired USB Mouse, 1000 DPI Optical...</td>\n",
       "      <td>499</td>\n",
       "    </tr>\n",
       "    <tr>\n",
       "      <th>5</th>\n",
       "      <td>Xmate Zorro Wired USB Gaming Mouse, 3200 DPI O...</td>\n",
       "      <td>124</td>\n",
       "    </tr>\n",
       "    <tr>\n",
       "      <th>6</th>\n",
       "      <td>Zebronics Zeb-Rise Wired USB Optical Mouse wit...</td>\n",
       "      <td>407</td>\n",
       "    </tr>\n",
       "    <tr>\n",
       "      <th>7</th>\n",
       "      <td>Dell MS116 1000DPI USB Wired Optical Mouse</td>\n",
       "      <td>265</td>\n",
       "    </tr>\n",
       "    <tr>\n",
       "      <th>8</th>\n",
       "      <td>iBall Style 63 Optical Mouse (Black)</td>\n",
       "      <td>440</td>\n",
       "    </tr>\n",
       "    <tr>\n",
       "      <th>9</th>\n",
       "      <td>HP USB X500 Wired Optical Sensor Mouse 3 Butto...</td>\n",
       "      <td>199</td>\n",
       "    </tr>\n",
       "    <tr>\n",
       "      <th>10</th>\n",
       "      <td>Zinq Technologies ZQ233 Wired Mouse with 1000D...</td>\n",
       "      <td>270</td>\n",
       "    </tr>\n",
       "    <tr>\n",
       "      <th>11</th>\n",
       "      <td>KECINOVA ENTERPRISE MS116 1000DPI USB Optical ...</td>\n",
       "      <td>410</td>\n",
       "    </tr>\n",
       "    <tr>\n",
       "      <th>12</th>\n",
       "      <td>iBall FreeGo G20 High Speed Wireless Optical M...</td>\n",
       "      <td>449</td>\n",
       "    </tr>\n",
       "    <tr>\n",
       "      <th>13</th>\n",
       "      <td>Ant Esports GM200W Gaming Mouse Wired, 6 Progr...</td>\n",
       "      <td>477</td>\n",
       "    </tr>\n",
       "    <tr>\n",
       "      <th>14</th>\n",
       "      <td>Portronics Toad 12 Wireless 2.4G Optical Mouse...</td>\n",
       "      <td>289</td>\n",
       "    </tr>\n",
       "    <tr>\n",
       "      <th>15</th>\n",
       "      <td>RiaTech Water Resistance Coating Natural Rubbe...</td>\n",
       "      <td>399</td>\n",
       "    </tr>\n",
       "    <tr>\n",
       "      <th>16</th>\n",
       "      <td>Electomania Heart-Shaped Summer Soft Silicon W...</td>\n",
       "      <td>399</td>\n",
       "    </tr>\n",
       "    <tr>\n",
       "      <th>17</th>\n",
       "      <td>Xmate Rio Wired USB Gaming Mouse, Led Backlit,...</td>\n",
       "      <td>369</td>\n",
       "    </tr>\n",
       "    <tr>\n",
       "      <th>18</th>\n",
       "      <td>RiaTech 2 Pack Mouse Pad, Water Resistance Coa...</td>\n",
       "      <td>189</td>\n",
       "    </tr>\n",
       "    <tr>\n",
       "      <th>19</th>\n",
       "      <td>Golden Feather Anti Skid Marvel Avengers Super...</td>\n",
       "      <td>210</td>\n",
       "    </tr>\n",
       "  </tbody>\n",
       "</table>\n",
       "</div>"
      ],
      "text/plain": [
       "                                           model_name price\n",
       "0   Portronics POR-015 Toad 11 Wireless Mouse with...   477\n",
       "1   Portronics Toad 12 Wireless 2.4G Optical Mouse...   299\n",
       "2              Lenovo 300 Wired USB Mouse, GX30M39704   349\n",
       "3                   HP X1000 Wired Mouse (Black/Grey)   299\n",
       "4   Logitech M90 Wired USB Mouse, 1000 DPI Optical...   499\n",
       "5   Xmate Zorro Wired USB Gaming Mouse, 3200 DPI O...   124\n",
       "6   Zebronics Zeb-Rise Wired USB Optical Mouse wit...   407\n",
       "7          Dell MS116 1000DPI USB Wired Optical Mouse   265\n",
       "8                iBall Style 63 Optical Mouse (Black)   440\n",
       "9   HP USB X500 Wired Optical Sensor Mouse 3 Butto...   199\n",
       "10  Zinq Technologies ZQ233 Wired Mouse with 1000D...   270\n",
       "11  KECINOVA ENTERPRISE MS116 1000DPI USB Optical ...   410\n",
       "12  iBall FreeGo G20 High Speed Wireless Optical M...   449\n",
       "13  Ant Esports GM200W Gaming Mouse Wired, 6 Progr...   477\n",
       "14  Portronics Toad 12 Wireless 2.4G Optical Mouse...   289\n",
       "15  RiaTech Water Resistance Coating Natural Rubbe...   399\n",
       "16  Electomania Heart-Shaped Summer Soft Silicon W...   399\n",
       "17  Xmate Rio Wired USB Gaming Mouse, Led Backlit,...   369\n",
       "18  RiaTech 2 Pack Mouse Pad, Water Resistance Coa...   189\n",
       "19  Golden Feather Anti Skid Marvel Avengers Super...   210"
      ]
     },
     "execution_count": 16,
     "metadata": {},
     "output_type": "execute_result"
    }
   ],
   "source": [
    "df=pd.DataFrame(mouse)\n",
    "df"
   ]
  },
  {
   "cell_type": "code",
   "execution_count": 17,
   "metadata": {},
   "outputs": [
    {
     "data": {
      "text/plain": [
       "'499'"
      ]
     },
     "execution_count": 17,
     "metadata": {},
     "output_type": "execute_result"
    }
   ],
   "source": [
    "df['price'].max()"
   ]
  },
  {
   "cell_type": "code",
   "execution_count": null,
   "metadata": {},
   "outputs": [],
   "source": []
  }
 ],
 "metadata": {
  "kernelspec": {
   "display_name": "Python 3",
   "language": "python",
   "name": "python3"
  },
  "language_info": {
   "codemirror_mode": {
    "name": "ipython",
    "version": 3
   },
   "file_extension": ".py",
   "mimetype": "text/x-python",
   "name": "python",
   "nbconvert_exporter": "python",
   "pygments_lexer": "ipython3",
   "version": "3.8.3"
  }
 },
 "nbformat": 4,
 "nbformat_minor": 4
}
