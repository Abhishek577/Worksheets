{
 "cells": [
  {
   "cell_type": "markdown",
   "metadata": {},
   "source": [
    "### 12. write a python program to square the elements of a list by using list comprehension."
   ]
  },
  {
   "cell_type": "code",
   "execution_count": 1,
   "metadata": {},
   "outputs": [],
   "source": [
    "def sqr(list):\n",
    "    return[i**2 for i in list]\n"
   ]
  },
  {
   "cell_type": "code",
   "execution_count": 2,
   "metadata": {},
   "outputs": [
    {
     "data": {
      "text/plain": [
       "[441, 121, 3964081, 81, 900]"
      ]
     },
     "execution_count": 2,
     "metadata": {},
     "output_type": "execute_result"
    }
   ],
   "source": [
    "sqr([21,11,1991,9,30])"
   ]
  },
  {
   "cell_type": "markdown",
   "metadata": {},
   "source": [
    "### 13.Write a pyhton program to drop duplicate elements from a list of numbers."
   ]
  },
  {
   "cell_type": "code",
   "execution_count": 3,
   "metadata": {},
   "outputs": [
    {
     "name": "stdout",
     "output_type": "stream",
     "text": [
      "number list= [17, 3, 20, 4, 13, 54, 55, 56, 73, 15, 98, 65, 4, 24, 98, 3, 73, 95, 56, 13, 95, 80] \n",
      "number of element= 22 \n",
      "\n",
      "new list after dropping duplicated values= [65, 98, 3, 4, 73, 13, 15, 80, 17, 20, 54, 55, 56, 24, 95]\n",
      "No of element dropped= 7\n"
     ]
    }
   ],
   "source": [
    "numbers=[17,3,20,4,13,54,55,56,73,15,98,65,4,24,98,3,73,95,56,13,95,80]\n",
    "print(\"number list=\",numbers,'\\nnumber of element=',len(numbers),'\\n')\n",
    "\n",
    "new=list(set(numbers))\n",
    "print('new list after dropping duplicated values=', new)\n",
    "print('No of element dropped=', len(numbers)-len(new))"
   ]
  },
  {
   "cell_type": "markdown",
   "metadata": {},
   "source": [
    "### 14.\tTake two sets of numbers and try implementing the set operations - intersection, union, difference and symmetric_difference between them."
   ]
  },
  {
   "cell_type": "code",
   "execution_count": 4,
   "metadata": {},
   "outputs": [
    {
     "name": "stdout",
     "output_type": "stream",
     "text": [
      "Union : {32, 96, 73, 10, 74, 11, 77, 12, 17, 18, 84, 21, 89}\n",
      "\n",
      "Intersection : {32, 18, 21, 77}\n",
      "\n",
      "Difference : {96, 89, 10, 74}\n",
      "\n",
      "Symmetric difference : {96, 73, 10, 11, 12, 74, 17, 84, 89}\n"
     ]
    }
   ],
   "source": [
    "A = {10, 32, 21,89,77,74, 96, 18}; \n",
    "B = {17, 32, 73, 84,12,11,21,77, 18}; \n",
    "print(\"Union :\", A | B) \n",
    "print(\"\\nIntersection :\", A & B) \n",
    "print(\"\\nDifference :\", A - B) \n",
    "print(\"\\nSymmetric difference :\", A ^ B)"
   ]
  },
  {
   "cell_type": "markdown",
   "metadata": {},
   "source": [
    "### 15.\tWrite a python program to add the elements of a set."
   ]
  },
  {
   "cell_type": "code",
   "execution_count": 5,
   "metadata": {},
   "outputs": [
    {
     "name": "stdout",
     "output_type": "stream",
     "text": [
      "s1:\t {'suits', 'jackets', 'shirts', 'tuxedo', 'watches', 'shoes', 'socks'}\n",
      "new s1:\t {'suits', 'jackets', 'shirts', 'tuxedo', 'sunglass', 'watches', 'shoes', 'socks'}\n",
      "new s1:\t {'hat', 'suits', 'jackets', 'shirts', 'tuxedo', 'sunglass', 'watches', 'shoes', 'socks'}\n"
     ]
    }
   ],
   "source": [
    "s1 = { 'socks', 'shoes', 'watches', 'shirts', 'jackets', 'suits', 'tuxedo'}\n",
    "print('s1:\\t', s1)\n",
    "\n",
    "# adding ''sunglass\" to the set\n",
    "s1.add('sunglass')\n",
    "print('new s1:\\t', s1)\n",
    "\n",
    "# adding 'hat' \n",
    "s1.add('hat')\n",
    "print('new s1:\\t', s1)"
   ]
  }
 ],
 "metadata": {
  "kernelspec": {
   "display_name": "Python 3",
   "language": "python",
   "name": "python3"
  },
  "language_info": {
   "codemirror_mode": {
    "name": "ipython",
    "version": 3
   },
   "file_extension": ".py",
   "mimetype": "text/x-python",
   "name": "python",
   "nbconvert_exporter": "python",
   "pygments_lexer": "ipython3",
   "version": "3.8.3"
  }
 },
 "nbformat": 4,
 "nbformat_minor": 4
}
