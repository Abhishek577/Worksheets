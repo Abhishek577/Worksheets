{
 "cells": [
  {
   "cell_type": "markdown",
   "metadata": {},
   "source": [
    "# 11.\tWrite a python program to find the factorial of a number.\n"
   ]
  },
  {
   "cell_type": "code",
   "execution_count": 1,
   "metadata": {},
   "outputs": [
    {
     "name": "stdout",
     "output_type": "stream",
     "text": [
      "enter a number11\n",
      "factorial of 11 is found to be 39916800.\n"
     ]
    }
   ],
   "source": [
    "n=int(input('enter a number'))\n",
    "if n==0:\n",
    "    print('factorial of zero is 1')\n",
    "elif n<0:\n",
    "    print('please enter a positive number, you cannot find factorial of a negative number')\n",
    "else:\n",
    "    fact=1\n",
    "    for i in range (1, n+1):\n",
    "        fact= fact*i\n",
    "print('factorial of {} is found to be {}.' .format(n,fact))"
   ]
  },
  {
   "cell_type": "markdown",
   "metadata": {},
   "source": [
    "# 12.\tWrite a python program to find whether a number is prime or composite.\n"
   ]
  },
  {
   "cell_type": "code",
   "execution_count": 2,
   "metadata": {},
   "outputs": [
    {
     "name": "stdout",
     "output_type": "stream",
     "text": [
      "enter a number: 1991\n",
      "1991  IS A COMPOSITE NUMBER\n"
     ]
    }
   ],
   "source": [
    "number=int(input('enter a number: '))\n",
    "for i in range (2,number):\n",
    "    if number%i==0:\n",
    "        print(number, ' IS A COMPOSITE NUMBER')\n",
    "        break;\n",
    "else:\n",
    "    print(number,' IS A PRIME NUMBER')"
   ]
  },
  {
   "cell_type": "markdown",
   "metadata": {},
   "source": [
    "# 13.\tWrite a python program to check whether a given string is palindrome or not."
   ]
  },
  {
   "cell_type": "code",
   "execution_count": 3,
   "metadata": {},
   "outputs": [
    {
     "name": "stdout",
     "output_type": "stream",
     "text": [
      "enter the string:Always Look on the Bright Side of Life\n",
      "\n",
      "The string is not a palindrome.\n"
     ]
    }
   ],
   "source": [
    "s = (input('enter the string:')).casefold()\n",
    "y=s[::-1]\n",
    "\n",
    "if s==y:\n",
    "    print(\"\\nThe string is a palindrome.\")\n",
    "else:\n",
    "    print(\"\\nThe string is not a palindrome.\")"
   ]
  },
  {
   "cell_type": "markdown",
   "metadata": {},
   "source": [
    "# 14.\tWrite a Python program to get the third side of right-angled triangle from two given sides."
   ]
  },
  {
   "cell_type": "code",
   "execution_count": 4,
   "metadata": {},
   "outputs": [
    {
     "name": "stdout",
     "output_type": "stream",
     "text": [
      "a: 3\n",
      "b: 4\n",
      "The length of the hypotenuse is found to be:-  5.0\n"
     ]
    }
   ],
   "source": [
    "from math import sqrt\n",
    "\n",
    "a = float(input(\"a: \"))\n",
    "b = float(input(\"b: \"))\n",
    "h = sqrt(a**2 + b**2)\n",
    "\n",
    "\n",
    "print(\"The length of the hypotenuse is found to be:- \", h )"
   ]
  },
  {
   "cell_type": "markdown",
   "metadata": {},
   "source": [
    "# 15.\tWrite a python program to print the frequency of each of the characters present in a given string."
   ]
  },
  {
   "cell_type": "code",
   "execution_count": 5,
   "metadata": {},
   "outputs": [],
   "source": [
    "def char_calculator(string):\n",
    "    from collections import Counter as cnt\n",
    "    calculate= cnt(string)\n",
    "    print('Number of characters in-----',string,'------is=\\n',calculate)"
   ]
  },
  {
   "cell_type": "code",
   "execution_count": 6,
   "metadata": {},
   "outputs": [
    {
     "name": "stdout",
     "output_type": "stream",
     "text": [
      "Number of characters in----- Always Look on the Bright Side of Life ------is=\n",
      " Counter({' ': 7, 'o': 4, 'e': 3, 'i': 3, 'L': 2, 't': 2, 'h': 2, 'f': 2, 'A': 1, 'l': 1, 'w': 1, 'a': 1, 'y': 1, 's': 1, 'k': 1, 'n': 1, 'B': 1, 'r': 1, 'g': 1, 'S': 1, 'd': 1})\n"
     ]
    }
   ],
   "source": [
    "string='Always Look on the Bright Side of Life'\n",
    "char_calculator(string)"
   ]
  }
 ],
 "metadata": {
  "kernelspec": {
   "display_name": "Python 3",
   "language": "python",
   "name": "python3"
  },
  "language_info": {
   "codemirror_mode": {
    "name": "ipython",
    "version": 3
   },
   "file_extension": ".py",
   "mimetype": "text/x-python",
   "name": "python",
   "nbconvert_exporter": "python",
   "pygments_lexer": "ipython3",
   "version": "3.8.3"
  }
 },
 "nbformat": 4,
 "nbformat_minor": 4
}
