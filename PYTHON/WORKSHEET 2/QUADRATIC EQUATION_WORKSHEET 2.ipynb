{
 "cells": [
  {
   "cell_type": "raw",
   "metadata": {},
   "source": [
    "Write a python program to solve a quadratic equation of the form 𝑎𝑥2 + 𝑏𝑥 + 𝑐 = 0. Where a, b and c are to be taken by user input. Handle the erroneous input, such as ‘a’ should not be equal to 0."
   ]
  },
  {
   "cell_type": "code",
   "execution_count": 1,
   "metadata": {},
   "outputs": [
    {
     "name": "stdout",
     "output_type": "stream",
     "text": [
      "Enter the value of a:\t5\n",
      "Enter the value of b:\t6\n",
      "Enter the value of c:\t10\n",
      "The  roots of the quadratic equation are=\t [(-0.6+1.2806248474865698j), (-0.6-1.2806248474865698j)]\n",
      "The roots are unreal \n",
      "TYPE YES TO RERUN OR ANY KEY TO EXIT:b\n"
     ]
    }
   ],
   "source": [
    "import cmath as cm\n",
    "run='yes'\n",
    "while run=='yes':\n",
    "    a=float(input(\"Enter the value of a:\\t\"))\n",
    "    b=float(input(\"Enter the value of b:\\t\"))\n",
    "    c=float(input(\"Enter the value of c:\\t\")) \n",
    "    \n",
    "    if a>0:\n",
    "        d=((b**2)-(4*a*c))\n",
    "        \n",
    "        x1= ((-b)+(cm.sqrt(d)))/(2*a)    \n",
    "        x2= ((-b)-(cm.sqrt(d)))/(2*a) \n",
    "        \n",
    "        print(\"The  roots of the quadratic equation are=\\t\", list((x1,x2)))\n",
    "        if d<0:\n",
    "            print('The roots are unreal ')\n",
    "        elif d==0:\n",
    "             print('One is real and one is imaginary ')\n",
    "        elif d>0: \n",
    "            print('Roots are real')\n",
    "    else:\n",
    "        print(\"Invalid Selection\")\n",
    "    run=str(input(\"TYPE YES TO RERUN OR ANY KEY TO EXIT:\").casefold())\n",
    "exit()                                               "
   ]
  }
 ],
 "metadata": {
  "kernelspec": {
   "display_name": "Python 3",
   "language": "python",
   "name": "python3"
  },
  "language_info": {
   "codemirror_mode": {
    "name": "ipython",
    "version": 3
   },
   "file_extension": ".py",
   "mimetype": "text/x-python",
   "name": "python",
   "nbconvert_exporter": "python",
   "pygments_lexer": "ipython3",
   "version": "3.8.3"
  }
 },
 "nbformat": 4,
 "nbformat_minor": 4
}
